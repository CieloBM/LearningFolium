{
 "cells": [
  {
   "cell_type": "markdown",
   "metadata": {},
   "source": [
    "# Convert Shapefile To GoogleMap"
   ]
  },
  {
   "cell_type": "code",
   "execution_count": 1,
   "metadata": {},
   "outputs": [
    {
     "data": {
      "text/plain": [
       "True"
      ]
     },
     "execution_count": 1,
     "metadata": {},
     "output_type": "execute_result"
    }
   ],
   "source": [
    "#Creates a Google Maps HTML document containing\n",
    "#features from a supplied shapefile\n",
    "\n",
    "import arcpy, sys, os\n",
    "\n",
    "# User variables\n",
    "inputFC = \"Synoptic_Points_1991_2011_mrgis.shp\"\n",
    "nameFld = \"LOC_ID\"\n",
    "outputHTML = \"Features.html\"\n",
    "\n",
    "# Begin building the HTML file using boilerplate code\n",
    "outFileObj = open(outputHTML,'w')\n",
    "outFileObj.write('''\n",
    "<!DOCTYPE html>\n",
    "<html>\n",
    "<head>\n",
    "<meta name=\"viewport\" content=\"initial-scale=1.0, user-scalable=no\" />\n",
    "<meta http-equiv=\"content-type\" content=\"text/html; charset=UTF-8\"/>\n",
    "<link href=\"http://code.google.com/apis/maps/documentation/javascript/examples/default.css\" rel=\"stylesheet\" type=\"text/css\" />\n",
    "<script type=\"text/javascript\" \n",
    "  src=\"http://maps.googleapis.com/maps/api/js?sensor=false\">\n",
    " </script>\n",
    "<script type=\"text/javascript\">\n",
    "var map\n",
    "//Function to create a marker at a given point with a given label\n",
    "function createMarker(name, latlng, map) {\n",
    "    var marker = new google.maps.Marker({position: latlng, map: map});\n",
    "    google.maps.event.addListener(marker, \"click\", function() {\n",
    "      infowindow = new google.maps.InfoWindow({content: name});\n",
    "      infowindow.open(map, marker);\n",
    "    });\n",
    "    return marker;\n",
    "    }\n",
    "//Initialize function\n",
    "function initialize() {\n",
    "  var center = new google.maps.LatLng(28, -79.500);\n",
    "  var myOptions = {\n",
    "    zoom: 7,\n",
    "    center: center,\n",
    "    mapTypeId: google.maps.MapTypeId.ROADMAP\n",
    "    }\n",
    "  map = new google.maps.Map(document.getElementById(\"map_canvas\"),myOptions);\n",
    "''')\n",
    "\n",
    "#Loop through [selected] features\n",
    "googleSR = arcpy.SpatialReference(\"WGS 1984\") #Using the WGS 84 in the search cursor gives coordinates in lat/long\n",
    "rows = arcpy.SearchCursor(inputFC,'\"YEAR\" = 2006 AND \"ADULTS\" > 4',googleSR)\n",
    "row = rows.next()\n",
    "while row:\n",
    "    shape = row.shape \n",
    "    Longitude=shape.firstPoint.X\n",
    "    Latitude=shape.firstPoint.Y\n",
    "    name = row.getValue(nameFld)\n",
    "    outFileObj.write(\"  createMarker(\\\"%s\\\",new google.maps.LatLng(%s,%s),map)\\n\" %(name,Latitude,Longitude))\n",
    "    row = rows.next()\n",
    "del row, rows\n",
    "\n",
    "# Add the remaining HTML code to the outFile\n",
    "outFileObj.write('''\n",
    "}\n",
    "</script>\n",
    "</head>\n",
    "<body onload=\"initialize()\">\n",
    "  <div id=\"map_canvas\" style=\"width:100%; height:80%\"></div>\n",
    "</body>\n",
    "</html>''')\n",
    "\n",
    "# Close the outFileObj\n",
    "outFileObj.close()\n",
    "\n",
    "# Additional code to open the file in the default browser\n",
    "# Open the file in a web browser\n",
    "import webbrowser\n",
    "webbrowser.open_new(outputHTML)"
   ]
  },
  {
   "cell_type": "code",
   "execution_count": null,
   "metadata": {},
   "outputs": [],
   "source": []
  }
 ],
 "metadata": {
  "kernelspec": {
   "display_name": "Python 3",
   "language": "python",
   "name": "python3"
  },
  "language_info": {
   "codemirror_mode": {
    "name": "ipython",
    "version": 3
   },
   "file_extension": ".py",
   "mimetype": "text/x-python",
   "name": "python",
   "nbconvert_exporter": "python",
   "pygments_lexer": "ipython3",
   "version": "3.6.5"
  }
 },
 "nbformat": 4,
 "nbformat_minor": 2
}
